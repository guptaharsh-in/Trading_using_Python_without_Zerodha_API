{
  "nbformat": 4,
  "nbformat_minor": 0,
  "metadata": {
    "colab": {
      "provenance": [],
      "authorship_tag": "ABX9TyOV36ydqNGmn3jBtzssMTic",
      "include_colab_link": true
    },
    "kernelspec": {
      "name": "python3",
      "display_name": "Python 3"
    },
    "language_info": {
      "name": "python"
    }
  },
  "cells": [
    {
      "cell_type": "markdown",
      "metadata": {
        "id": "view-in-github",
        "colab_type": "text"
      },
      "source": [
        "<a href=\"https://colab.research.google.com/github/guptaharsh-in/Trading_using_Python_without_Zerodha_API/blob/main/Trading_using_Python_without_Zerodha_API.ipynb\" target=\"_parent\"><img src=\"https://colab.research.google.com/assets/colab-badge.svg\" alt=\"Open In Colab\"/></a>"
      ]
    },
    {
      "cell_type": "code",
      "source": [
        "# Trading using Python without using Zerodha API"
      ],
      "metadata": {
        "id": "dUyDFSjpks1Q"
      },
      "execution_count": null,
      "outputs": []
    },
    {
      "cell_type": "code",
      "source": [
        "# Download \"kite_algo.py\" file"
      ],
      "metadata": {
        "id": "wPOtOUsCk5im"
      },
      "execution_count": null,
      "outputs": []
    },
    {
      "cell_type": "code",
      "source": [
        "# Load \"kite_algo.py\" file\n",
        "from google.colab import files\n",
        "files.upload()"
      ],
      "metadata": {
        "id": "zB1iLMOGwzeu"
      },
      "execution_count": null,
      "outputs": []
    },
    {
      "cell_type": "code",
      "source": [
        "# import \"kite_algo.py\" file\n",
        "from kite_algo import *"
      ],
      "metadata": {
        "id": "i4qGGA93CSAx"
      },
      "execution_count": null,
      "outputs": []
    },
    {
      "cell_type": "code",
      "source": [
        "# Provide \"enctoken\" maually after login in your zerodha desktop account.\n",
        "# To get enctoken : \n",
        "# 1. Right click on your zerodha account screen and click inspect\n",
        "# 2. Choose Network from upper section then press CTRL+R and then click Fetch/XHR\n",
        "# 3. Click positions under name section\n",
        "# 4. Scroll down under headers column and copy enctoken from authorization\n"
      ],
      "metadata": {
        "id": "4LFURdpZlow4"
      },
      "execution_count": null,
      "outputs": []
    },
    {
      "cell_type": "code",
      "source": [
        "# Provide enctoken here\n",
        "enctoken = \"\"\n",
        "kite = KiteApp(enctoken=enctoken)"
      ],
      "metadata": {
        "id": "wXVqDfcGyRJW"
      },
      "execution_count": null,
      "outputs": []
    },
    {
      "cell_type": "code",
      "source": [
        "# Python is connected to your Zerodha Desktop Session(Remember logging out will terminate your python session also)"
      ],
      "metadata": {
        "id": "y4HzOY2hpdz0"
      },
      "execution_count": null,
      "outputs": []
    },
    {
      "cell_type": "code",
      "source": [
        "# Fetch Orders, Positions, etc\n",
        "print(kite.margins())\n",
        "print(kite.orders())\n",
        "print(kite.positions())"
      ],
      "metadata": {
        "colab": {
          "base_uri": "https://localhost:8080/"
        },
        "id": "CD88j7ULziTx",
        "outputId": "9c4d243f-622b-4ccb-c0c7-cbe1ad84da28"
      },
      "execution_count": null,
      "outputs": [
        {
          "output_type": "stream",
          "name": "stdout",
          "text": [
            "None\n",
            "None\n",
            "None\n"
          ]
        }
      ]
    },
    {
      "cell_type": "code",
      "source": [
        "# Fetch instruments\n",
        "print(kite.instruments())\n",
        "print(kite.instruments(\"NSE\"))\n",
        "print(kite.instruments(\"NFO\"))"
      ],
      "metadata": {
        "id": "R9DD9ac9z8Xf"
      },
      "execution_count": null,
      "outputs": []
    },
    {
      "cell_type": "code",
      "source": [
        "# Fetch Live Data\n",
        "print(kite.ltp(\"NSE:RELIANCE\"))\n",
        "print(kite.ltp([\"NSE:NIFTY 50\", \"NSE:NIFTY BANK\"]))\n",
        "print(kite.quote([\"NSE:NIFTY BANK\", \"NSE:INFY\", \"NFO:NIFTY02JANFUT\"]))"
      ],
      "metadata": {
        "colab": {
          "base_uri": "https://localhost:8080/"
        },
        "id": "uTcKbjeKqoSP",
        "outputId": "5cf36cec-0954-4d0c-fa48-ddae3e6e1036"
      },
      "execution_count": null,
      "outputs": [
        {
          "output_type": "stream",
          "name": "stdout",
          "text": [
            "None\n",
            "None\n",
            "None\n"
          ]
        }
      ]
    },
    {
      "cell_type": "code",
      "source": [
        "# Get Historical Data\n",
        "import datetime\n",
        "instrument_token = 408065\n",
        "from_datetime = datetime.datetime.now() - datetime.timedelta(days=7)     # From last & days\n",
        "to_datetime = datetime.datetime.now()\n",
        "interval = \"5minute\"\n",
        "print(kite.historical_data(instrument_token, from_datetime, to_datetime, interval, continuous=False, oi=False))"
      ],
      "metadata": {
        "id": "x7AeCsilrDK8"
      },
      "execution_count": null,
      "outputs": []
    },
    {
      "cell_type": "code",
      "source": [
        "# Place Order\n",
        "order = kite.place_order(variety=kite.VARIETY_REGULAR,\n",
        "                         exchange=kite.EXCHANGE_NSE,\n",
        "                         tradingsymbol=\"INFY\",\n",
        "                         transaction_type=kite.TRANSACTION_TYPE_BUY,\n",
        "                         quantity=1,\n",
        "                         product=kite.PRODUCT_MIS,\n",
        "                         order_type=kite.ORDER_TYPE_MARKET,\n",
        "                         price=None,\n",
        "                         validity=None,\n",
        "                         disclosed_quantity=None,\n",
        "                         trigger_price=None,\n",
        "                         squareoff=None,\n",
        "                         stoploss=None,\n",
        "                         trailing_stoploss=None,\n",
        "                         tag=\"guptaharsh.in\")\n",
        "\n",
        "print(order)\n"
      ],
      "metadata": {
        "id": "XDhv6npg10ng"
      },
      "execution_count": null,
      "outputs": []
    },
    {
      "cell_type": "code",
      "source": [
        "# Modify order\n",
        "kite.modify_order(variety=kite.VARIETY_REGULAR,\n",
        "                  order_id=\"order_id\",\n",
        "                  parent_order_id=None,\n",
        "                  quantity=2,\n",
        "                  price=1500,\n",
        "                  order_type=kite.ORDER_TYPE_LIMIT,\n",
        "                  trigger_price=None,\n",
        "                  validity=kite.VALIDITY_DAY,\n",
        "                  disclosed_quantity=None)\n"
      ],
      "metadata": {
        "id": "ss9BFHgQrXPf"
      },
      "execution_count": null,
      "outputs": []
    },
    {
      "cell_type": "code",
      "source": [
        "# Cancel order\n",
        "kite.cancel_order(variety=kite.VARIETY_REGULAR,\n",
        "                  order_id=\"order_id\",\n",
        "                  parent_order_id=None)"
      ],
      "metadata": {
        "id": "NX9iMLIKrbIf"
      },
      "execution_count": null,
      "outputs": []
    }
  ]
}